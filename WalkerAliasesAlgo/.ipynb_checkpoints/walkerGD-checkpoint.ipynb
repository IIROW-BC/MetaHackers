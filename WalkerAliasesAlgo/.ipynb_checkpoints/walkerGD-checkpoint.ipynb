{
 "cells": [
  {
   "cell_type": "code",
   "execution_count": 5,
   "metadata": {},
   "outputs": [
    {
     "name": "stdout",
     "output_type": "stream",
     "text": [
      "[0, 13, 112, 987]\n"
     ]
    }
   ],
   "source": [
    "# efficient with-replacement-sampling algorithm\n",
    "# cf. http://blog.unnono.net/2010/07/blog-post.html\n",
    "\n",
    "probs = [1/1111, 1000/1111, 100/1111, 10/1111]\n",
    "n = len(probs)\n",
    "\n",
    "# pre-computation of a[] and p[]\n",
    "a = [-1]*n\n",
    "p = [0]*n\n",
    "\n",
    "fixed = 0\n",
    "\n",
    "while fixed < n:\n",
    "    # block assignment of small items\n",
    "    for i in range(n):\n",
    "        if p[i] == 0 and probs[i] * n <= 1.0:\n",
    "            p[i] = probs[i] * n\n",
    "            probs[i] = 0\n",
    "            fixed += 1\n",
    "    # packing of large items\n",
    "    for i in range(n):\n",
    "        if probs[i] * n > 1.0:\n",
    "            for j in range(n):\n",
    "                if p[j] != 0 and a[j] == -1:\n",
    "                    a[j] = i\n",
    "                    probs[i] -= (1.0 - p[j])/n\n",
    "                    #print(a)\n",
    "                    #print(p)\n",
    "                if probs[i] * n <= 1.0:\n",
    "                    break\n",
    "# O(1) sampling test\n",
    "import random\n",
    "\n",
    "counts = [0] * n\n",
    "for _ in range(1112):\n",
    "    q = random.random() * n\n",
    "    i = int(q)\n",
    "    if q - i < p[i]:\n",
    "        counts[i] += 1\n",
    "        #print(\"Label 1:\", i)\n",
    "    else:\n",
    "        counts[a[i]] += 1\n",
    "        #print(\"Alias:\", a[i], \"for i:\", i)\n",
    "\n",
    "print(counts) # -> [20014, 30023, 40081, 9882] (for example)\n"
   ]
  },
  {
   "cell_type": "code",
   "execution_count": null,
   "metadata": {},
   "outputs": [],
   "source": []
  }
 ],
 "metadata": {
  "kernelspec": {
   "display_name": "Python 3",
   "language": "python",
   "name": "python3"
  },
  "language_info": {
   "codemirror_mode": {
    "name": "ipython",
    "version": 3
   },
   "file_extension": ".py",
   "mimetype": "text/x-python",
   "name": "python",
   "nbconvert_exporter": "python",
   "pygments_lexer": "ipython3",
   "version": "3.6.8"
  }
 },
 "nbformat": 4,
 "nbformat_minor": 2
}
